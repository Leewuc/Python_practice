{
 "cells": [
  {
   "cell_type": "markdown",
   "metadata": {},
   "source": [
    "## 문제 1: 비밀번호 강도 체크\n",
    "사용자로부터 비밀번호를 입력받아, 그 비밀번호가 강한지 약한지를 평가하는 프로그램을 작성하세요. 비밀번호 강도는 다음 조건에 따라 결정됩니다:\n",
    "\n",
    "8자리 이상, 숫자와 영문자(대문자 및 소문자)를 모두 포함: \"강함\"\n",
    "그렇지 않으면: \"약함\""
   ]
  },
  {
   "cell_type": "code",
   "execution_count": null,
   "metadata": {},
   "outputs": [],
   "source": [
    "password  = \"\"\n"
   ]
  },
  {
   "cell_type": "markdown",
   "metadata": {},
   "source": [
    "## 문제 2. 별 찍기!\n",
    "\n",
    "* 하늘의 아름다운 별을 따다 코드로 작성해보자.\n",
    "\n",
    "> 이해하고 싶으신 분들은 별 찍기의 출력을 반대로 해보세요!"
   ]
  },
  {
   "cell_type": "code",
   "execution_count": null,
   "metadata": {},
   "outputs": [],
   "source": [
    "# number = 5\n",
    "*****\n",
    "****\n",
    "***\n",
    "**\n",
    "*"
   ]
  },
  {
   "cell_type": "code",
   "execution_count": 58,
   "metadata": {},
   "outputs": [
    {
     "name": "stdout",
     "output_type": "stream",
     "text": [
      "*****\n",
      "****\n",
      "***\n",
      "**\n",
      "*\n"
     ]
    }
   ],
   "source": [
    "number = int(input(\"Input the number of lines : \"))\n",
    "for i in range(number,0,-1):\n",
    "    print(f\"{'*' * i}\")\n",
    "\n",
    "# 2)\n",
    "for i in range(number,0,-1):\n",
    "    for j in range(i):\n",
    "        print('*',end=\"\")        \n",
    "    print()"
   ]
  },
  {
   "cell_type": "markdown",
   "metadata": {},
   "source": [
    "## 문제 3. 단어 갯수 구하기\n",
    "\n",
    "* 다음과 같은 영어기사 5개가 있다.\n",
    "* 철수는 다음 뉴스기사들의 어떤 단어가 얼마나 나왔는지 궁금해졌다.\n",
    "* 뉴스기사에서 등장하는 모든 단어마다 개수를 세어보자!"
   ]
  },
  {
   "cell_type": "code",
   "execution_count": 26,
   "metadata": {},
   "outputs": [],
   "source": [
    "#아래 5개의 변수들은 각각 하나의 문서를 의미합니다.\n",
    "news1 = \"earn\tchampion products ch approves stock split champion products inc said its board of directors approved a two for one stock split of its common shares for shareholders of record as of april the company also said its board voted to recommend to shareholders at the annual meeting april an increase in the authorized capital stock from five mln to mln shares reuter\"\n",
    "news2 = \"acq\tcomputer terminal systems cpml completes sale computer terminal systems inc said it has completed the sale of shares of its common stock and warrants to acquire an additional one mln shares to sedio n v of lugano switzerland for dlrs the company said the warrants are exercisable for five years at a purchase price of dlrs per share computer terminal said sedio also has the right to buy additional shares and increase its total holdings up to pct of the computer terminal s outstanding common stock under certain circumstances involving change of control at the company the company said if the conditions occur the warrants would be exercisable at a price equal to pct of its common stock s market price at the time not to exceed dlrs per share computer terminal also said it sold the technolgy rights to its dot matrix impact technology including any future improvements to woodco inc of houston tex for dlrs but it said it would continue to be the exclusive worldwide licensee of the technology for woodco the company said the moves were part of its reorganization plan and would help pay current operation costs and ensure product delivery computer terminal makes computer generated labels forms tags and ticket printers and terminals reuter\"\n",
    "news3 = \"earn\tcobanco inc cbco year net shr cts vs dlrs net vs assets mln vs mln deposits mln vs mln loans mln vs mln note th qtr not available year includes extraordinary gain from tax carry forward of dlrs or five cts per shr reuter\"\n",
    "news4 = \"earn\tam international inc am nd qtr jan oper shr loss two cts vs profit seven cts oper shr profit vs profit revs mln vs mln avg shrs mln vs mln six mths oper shr profit nil vs profit cts oper net profit vs profit revs mln vs mln avg shrs mln vs mln note per shr calculated after payment of preferred dividends results exclude credits of or four cts and or nine cts for qtr and six mths vs or six cts and or cts for prior periods from operating loss carryforwards reuter\"\n",
    "news5 = \"earn\tbrown forman inc bfd th qtr net shr one dlr vs cts net mln vs mln revs mln vs mln nine mths shr dlrs vs dlrs net mln vs mln revs billion vs mln reuter\""
   ]
  },
  {
   "cell_type": "code",
   "execution_count": 62,
   "metadata": {},
   "outputs": [
    {
     "name": "stdout",
     "output_type": "stream",
     "text": [
      "[['earn\\tchampion', 'products', 'ch', 'approves', 'stock', 'split', 'champion', 'products', 'inc', 'said', 'its', 'board', 'of', 'directors', 'approved', 'a', 'two', 'for', 'one', 'stock', 'split', 'of', 'its', 'common', 'shares', 'for', 'shareholders', 'of', 'record', 'as', 'of', 'april', 'the', 'company', 'also', 'said', 'its', 'board', 'voted', 'to', 'recommend', 'to', 'shareholders', 'at', 'the', 'annual', 'meeting', 'april', 'an', 'increase', 'in', 'the', 'authorized', 'capital', 'stock', 'from', 'five', 'mln', 'to', 'mln', 'shares', 'reuter'], 304]\n"
     ]
    }
   ],
   "source": [
    "#news_list는 뉴스 5개가 원소인 리스트입니다.\n",
    "#word_Dict는 문서 하나당 단어와 단어 갯수가 저장되는 사전입니다. 하나만 사용하셔도 되고, 여러개를 사용하셔도 됩니다.\n",
    "\n",
    "# HINT:\n",
    "## 1. news1.split()\n",
    "## 2. Dictionary\n",
    "news = news1.split(\" \")\n",
    "cnt = 0\n",
    "news_list = [news1,news2,news3,news4,news5]\n",
    "for i in range(0,len(news),1):\n",
    "        for j in range(len(news[i])):\n",
    "            cnt += 1   \n",
    "            word_dict = [news,cnt]\n",
    "print(word_dict)           "
   ]
  },
  {
   "cell_type": "code",
   "execution_count": null,
   "metadata": {},
   "outputs": [],
   "source": []
  }
 ],
 "metadata": {
  "kernelspec": {
   "display_name": "Python 3 (ipykernel)",
   "language": "python",
   "name": "python3"
  },
  "language_info": {
   "codemirror_mode": {
    "name": "ipython",
    "version": 3
   },
   "file_extension": ".py",
   "mimetype": "text/x-python",
   "name": "python",
   "nbconvert_exporter": "python",
   "pygments_lexer": "ipython3",
   "version": "3.11.5"
  }
 },
 "nbformat": 4,
 "nbformat_minor": 2
}
